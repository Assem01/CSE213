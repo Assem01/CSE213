{
  "cells": [
    {
      "cell_type": "markdown",
      "metadata": {
        "id": "organizational-dimension"
      },
      "source": [
        "# CSE213 - Numerical Analysis"
      ],
      "id": "organizational-dimension"
    },
    {
      "cell_type": "markdown",
      "metadata": {
        "id": "demonstrated-democrat"
      },
      "source": [
        "# LAB 0 - An Introduction to Numpy and Matplotlib"
      ],
      "id": "demonstrated-democrat"
    },
    {
      "cell_type": "markdown",
      "metadata": {
        "id": "natural-perth"
      },
      "source": [
        "## Contents\n",
        "\n",
        "1. What is Numpy?\n",
        "2. Creating Numpy arrays\n",
        "    * From Python lists\n",
        "    * Using `arange` and `linspace`\n",
        "    * Using special functions\n",
        "3. Indexing and Slicing\n",
        "4. Creating 2-D matrices\n",
        "5. Indexing and Slicing (again)\n",
        "6. Basic operations\n",
        "7. Numpy math functions\n",
        "8. What is Matplotlib?\n",
        "9. Plotting a function"
      ],
      "id": "natural-perth"
    },
    {
      "cell_type": "markdown",
      "metadata": {
        "id": "solar-morrison"
      },
      "source": [
        "## What is Numpy?\n",
        "\n",
        "Numpy (Numerical Python) is a Python library for scientific computation. Numpy is the library that makes Python comparable to Matlab (a very famous scientific computation software). It allows very fast and efficient mathematical computations on vectors, matrices and high-dimensional matrices.\n",
        "\n",
        "In this course, we will use Numpy extensively therefore, it is a good idea to start tinkering around with it early."
      ],
      "id": "solar-morrison"
    },
    {
      "cell_type": "markdown",
      "metadata": {
        "id": "sporting-defense"
      },
      "source": [
        "## Prerequisites"
      ],
      "id": "sporting-defense"
    },
    {
      "cell_type": "code",
      "execution_count": 1,
      "metadata": {
        "colab": {
          "base_uri": "https://localhost:8080/"
        },
        "id": "distinguished-gauge",
        "outputId": "b0e7a4c9-72b3-4785-de9d-62cfb1798a82"
      },
      "outputs": [
        {
          "output_type": "stream",
          "name": "stdout",
          "text": [
            "hello\n"
          ]
        }
      ],
      "source": [
        "import numpy as np\n",
        "print(\"hello\")"
      ],
      "id": "distinguished-gauge"
    },
    {
      "cell_type": "markdown",
      "metadata": {
        "id": "plain-addition"
      },
      "source": [
        "## Creating Numpy arrays"
      ],
      "id": "plain-addition"
    },
    {
      "cell_type": "markdown",
      "metadata": {
        "id": "skilled-claim"
      },
      "source": [
        "### From lists\n",
        "\n",
        "You can create a Numpy array from Python lists using `np.array()`"
      ],
      "id": "skilled-claim"
    },
    {
      "cell_type": "code",
      "execution_count": null,
      "metadata": {
        "colab": {
          "background_save": true
        },
        "id": "familiar-friday",
        "outputId": "e7827933-1a22-4d34-a2d2-1b71b2633cbf"
      },
      "outputs": [
        {
          "name": "stdout",
          "output_type": "stream",
          "text": [
            "[[1 2 3]\n",
            " [4 5 6]\n",
            " [7 8 9]]\n"
          ]
        }
      ],
      "source": [
        "# Creating a numpy array of elements 1,2,3,4,5\n",
        "numbers = np.array([1,2,3,4,5])\n",
        "print(numbers)"
      ],
      "id": "familiar-friday"
    },
    {
      "cell_type": "markdown",
      "metadata": {
        "id": "suburban-shanghai"
      },
      "source": [
        "The previous variable `numbers` is of type `np.ndarray` and has some properties. For example:"
      ],
      "id": "suburban-shanghai"
    },
    {
      "cell_type": "code",
      "execution_count": null,
      "metadata": {
        "colab": {
          "base_uri": "https://localhost:8080/",
          "height": 218
        },
        "id": "technical-rwanda",
        "outputId": "1bf56240-095c-44b0-f85e-8c4493df8727"
      },
      "outputs": [
        {
          "ename": "NameError",
          "evalue": "ignored",
          "output_type": "error",
          "traceback": [
            "\u001b[0;31m---------------------------------------------------------------------------\u001b[0m",
            "\u001b[0;31mNameError\u001b[0m                                 Traceback (most recent call last)",
            "\u001b[0;32m<ipython-input-3-ef9a472b6fe1>\u001b[0m in \u001b[0;36m<module>\u001b[0;34m\u001b[0m\n\u001b[0;32m----> 1\u001b[0;31m \u001b[0mprint\u001b[0m\u001b[0;34m(\u001b[0m\u001b[0mtype\u001b[0m\u001b[0;34m(\u001b[0m\u001b[0mnumbers\u001b[0m\u001b[0;34m)\u001b[0m\u001b[0;34m)\u001b[0m\u001b[0;34m\u001b[0m\u001b[0;34m\u001b[0m\u001b[0m\n\u001b[0m\u001b[1;32m      2\u001b[0m \u001b[0mprint\u001b[0m\u001b[0;34m(\u001b[0m\u001b[0mnumbers\u001b[0m\u001b[0;34m.\u001b[0m\u001b[0mdtype\u001b[0m\u001b[0;34m)\u001b[0m\u001b[0;34m\u001b[0m\u001b[0;34m\u001b[0m\u001b[0m\n\u001b[1;32m      3\u001b[0m \u001b[0mprint\u001b[0m\u001b[0;34m(\u001b[0m\u001b[0mnumbers\u001b[0m\u001b[0;34m.\u001b[0m\u001b[0mshape\u001b[0m\u001b[0;34m)\u001b[0m\u001b[0;34m\u001b[0m\u001b[0;34m\u001b[0m\u001b[0m\n\u001b[1;32m      4\u001b[0m \u001b[0mprint\u001b[0m\u001b[0;34m(\u001b[0m\u001b[0mnumbers\u001b[0m\u001b[0;34m.\u001b[0m\u001b[0mndim\u001b[0m\u001b[0;34m)\u001b[0m\u001b[0;34m\u001b[0m\u001b[0;34m\u001b[0m\u001b[0m\n",
            "\u001b[0;31mNameError\u001b[0m: name 'numbers' is not defined"
          ]
        }
      ],
      "source": [
        "print(type(numbers))\n",
        "print(numbers.dtype)\n",
        "print(numbers.shape)\n",
        "print(numbers.ndim)"
      ],
      "id": "technical-rwanda"
    },
    {
      "cell_type": "markdown",
      "metadata": {
        "id": "portable-abraham"
      },
      "source": [
        "### Using `arange` and `linspace`\n",
        "\n",
        "Sometimes, you need to create an array with equally-spaced numbers i.e. numbers from 0 to 1 with step 0.01. This can be done with either `np.arange` or `np.linspace`"
      ],
      "id": "portable-abraham"
    },
    {
      "cell_type": "code",
      "execution_count": null,
      "metadata": {
        "id": "false-reserve"
      },
      "outputs": [],
      "source": [
        "# np.arange(start, stop, step)\n",
        "arr1 = np.arange(0, 1, 0.1) # 1 is not included\n",
        "print(arr1)"
      ],
      "id": "false-reserve"
    },
    {
      "cell_type": "code",
      "execution_count": null,
      "metadata": {
        "id": "strategic-canvas"
      },
      "outputs": [],
      "source": [
        "# np.linspace(start, stop, size)\n",
        "arr2 = np.linspace(0, 1, 11) # 11 is included\n",
        "print(arr2)"
      ],
      "id": "strategic-canvas"
    },
    {
      "cell_type": "markdown",
      "metadata": {
        "id": "clear-strike"
      },
      "source": [
        "### Using special functions\n",
        "\n",
        "There are some special functions to create special vectors and matrices in Numpy. For example, `np.zeros()` will create an array of zeros. `np.ones()` will create an array of ones."
      ],
      "id": "clear-strike"
    },
    {
      "cell_type": "code",
      "execution_count": null,
      "metadata": {
        "id": "dominican-mercury"
      },
      "outputs": [],
      "source": [
        "zeros = np.zeros(10)\n",
        "print(zeros)"
      ],
      "id": "dominican-mercury"
    },
    {
      "cell_type": "code",
      "execution_count": null,
      "metadata": {
        "id": "atmospheric-interview"
      },
      "outputs": [],
      "source": [
        "ones = np.ones(10)\n",
        "print(ones)"
      ],
      "id": "atmospheric-interview"
    },
    {
      "cell_type": "markdown",
      "metadata": {
        "id": "exotic-little"
      },
      "source": [
        "## Indexing and Slicing\n",
        "\n",
        "Similar to indexing and slicing in normal Python lists, indexing is done using a square brackets after the array name with the index between the two brackets i.e. `numbers[1]`, and slicing is done using a colon between the start and end indices i.e. `numbers[1:3]`."
      ],
      "id": "exotic-little"
    },
    {
      "cell_type": "code",
      "execution_count": null,
      "metadata": {
        "id": "unlimited-silly"
      },
      "outputs": [],
      "source": [
        "print(numbers[1])\n",
        "print(numbers[1:3])"
      ],
      "id": "unlimited-silly"
    },
    {
      "cell_type": "markdown",
      "metadata": {
        "id": "divine-purple"
      },
      "source": [
        "You can index the last element using the index `-1`. You can also leave the start index empty to indicate the index `0` and the end index empty to indicate the end of the array i.e. `numbers[:3]` will return all elements from the beginning of the array until before element with index `3` - and `numbers[3:]` will return all elements from element of index `3` until the last element in the array."
      ],
      "id": "divine-purple"
    },
    {
      "cell_type": "code",
      "execution_count": null,
      "metadata": {
        "id": "amber-wilderness"
      },
      "outputs": [],
      "source": [
        "print(numbers)\n",
        "print(numbers[:3])\n",
        "print(numbers[3:])\n",
        "print(numbers[:])"
      ],
      "id": "amber-wilderness"
    },
    {
      "cell_type": "markdown",
      "metadata": {
        "id": "derived-somewhere"
      },
      "source": [
        "### Creating 2-D Matrices\n",
        "\n",
        "A matrix can be thought of as a number of rows stacked on top of each other. In Python, a matrix can be represented as a list of equal-length lists i.e. `matrix = [[1,2,3],[4,5,6],[7,8,9]]`. This is the same with Numpy. In fact, a matrix in Numpy can be created using `np.array()` as with vectors, but this time with a nested list instead of a normal list between the paranthesis."
      ],
      "id": "derived-somewhere"
    },
    {
      "cell_type": "code",
      "execution_count": null,
      "metadata": {
        "id": "sophisticated-attendance"
      },
      "outputs": [],
      "source": [
        "matrix = np.array([[1,2,3],[4,5,6],[7,8,9]])\n",
        "print(matrix)"
      ],
      "id": "sophisticated-attendance"
    },
    {
      "cell_type": "code",
      "execution_count": null,
      "metadata": {
        "id": "located-criticism"
      },
      "outputs": [],
      "source": [
        "# using special functions\n",
        "zeros = np.zeros((3,3))\n",
        "print(zeros)"
      ],
      "id": "located-criticism"
    },
    {
      "cell_type": "code",
      "execution_count": null,
      "metadata": {
        "id": "difficult-disclosure"
      },
      "outputs": [],
      "source": [
        "ones = np.ones((4,4))\n",
        "print(ones)"
      ],
      "id": "difficult-disclosure"
    },
    {
      "cell_type": "markdown",
      "metadata": {
        "id": "rocky-crawford"
      },
      "source": [
        "`np.diag(list)` will take a list and return a diagonal matrix with the given list as its diagonal. `np.eye(dimension)` will create the identity matrix (a matrix with a diagonal of ones). `np.full(shape, value)` will create a matrix with constant value."
      ],
      "id": "rocky-crawford"
    },
    {
      "cell_type": "code",
      "execution_count": null,
      "metadata": {
        "id": "innocent-guinea"
      },
      "outputs": [],
      "source": [
        "diag = np.diag([1,2,3,4])\n",
        "print(diag)"
      ],
      "id": "innocent-guinea"
    },
    {
      "cell_type": "code",
      "execution_count": null,
      "metadata": {
        "id": "prerequisite-class"
      },
      "outputs": [],
      "source": [
        "identity = np.eye(5)\n",
        "print(identity)"
      ],
      "id": "prerequisite-class"
    },
    {
      "cell_type": "code",
      "execution_count": null,
      "metadata": {
        "id": "loving-nicholas"
      },
      "outputs": [],
      "source": [
        "const = np.full((5,5), 7)\n",
        "print(const)"
      ],
      "id": "loving-nicholas"
    },
    {
      "cell_type": "markdown",
      "metadata": {
        "id": "ideal-coverage"
      },
      "source": [
        "### Array shape\n",
        "\n",
        "Every Numpy array has a property `shape` that returns a tuple indicating the dimension of that array. For example, if `a` is a matrix with 4 rows and 3 columns, then `a.shape` will return `(4,3)`."
      ],
      "id": "ideal-coverage"
    },
    {
      "cell_type": "code",
      "execution_count": null,
      "metadata": {
        "id": "hindu-albania"
      },
      "outputs": [],
      "source": [
        "const = np.full((4,3), 2)\n",
        "print(const)\n",
        "print(const.shape)"
      ],
      "id": "hindu-albania"
    },
    {
      "cell_type": "markdown",
      "metadata": {
        "id": "confident-spiritual"
      },
      "source": [
        "### Indexing and Slicing (again)\n",
        "\n",
        "Let's assume we have a Numpy array `numbers = np.array([1,2,3])`. Executing the following command `numbers[1]` will return `2`. This is because the element with index `1` is the number `2`. However, let's now assume that the Numpy array `numbers` holds a matrix instead `numbers = np.array([[1,2,3],[4,5,6],[7,8,9]])`, now `numbers[1]` will return `[4,5,6]`. Why? Because `numbers` is a matrix or a collection of rows, the first row has the index `0`, the second has the index `1` and so on, therefore, `number[1]` will return the second element (row) of that matrix."
      ],
      "id": "confident-spiritual"
    },
    {
      "cell_type": "code",
      "execution_count": null,
      "metadata": {
        "id": "intensive-gibson"
      },
      "outputs": [],
      "source": [
        "numbers = np.array([[1,2,3],[4,5,6],[7,8,9]])\n",
        "print(numbers)\n",
        "print(numbers[1])"
      ],
      "id": "intensive-gibson"
    },
    {
      "cell_type": "markdown",
      "metadata": {
        "id": "dietary-halloween"
      },
      "source": [
        "Now, if we want to select a specific element from the selected row, we use another index, and separate the two indices (the row index and the element's index within the row) with a comma i.e. `numbers[1,2]`. Actually, the `1` is called the row index (or sometimes axis 0) and the `2` is called the column index (or axis 1)."
      ],
      "id": "dietary-halloween"
    },
    {
      "cell_type": "code",
      "execution_count": null,
      "metadata": {
        "id": "healthy-burden"
      },
      "outputs": [],
      "source": [
        "# return the second row, the third element\n",
        "print(numbers)\n",
        "print(numbers[1,2])"
      ],
      "id": "healthy-burden"
    },
    {
      "cell_type": "markdown",
      "metadata": {
        "id": "compound-shaft"
      },
      "source": [
        "What about slicing? In fact, matrix slicing is one of the most brilliant and most used features of Numpy. When slicing, you choose the starting and ending indices in the rows and columns dimensions, and it returns a smaller matrix in the given range."
      ],
      "id": "compound-shaft"
    },
    {
      "cell_type": "code",
      "execution_count": null,
      "metadata": {
        "id": "accessory-color"
      },
      "outputs": [],
      "source": [
        "# Create a 10x10 identity matrix\n",
        "numbers = np.identity(10)\n",
        "print(numbers)"
      ],
      "id": "accessory-color"
    },
    {
      "cell_type": "code",
      "execution_count": null,
      "metadata": {
        "id": "isolated-malta"
      },
      "outputs": [],
      "source": [
        "# get the first 5 rows\n",
        "print(numbers[0:5,:])"
      ],
      "id": "isolated-malta"
    },
    {
      "cell_type": "code",
      "execution_count": null,
      "metadata": {
        "id": "simplified-celtic"
      },
      "outputs": [],
      "source": [
        "# get the first 5 columns\n",
        "print(numbers[:,0:5])"
      ],
      "id": "simplified-celtic"
    },
    {
      "cell_type": "code",
      "execution_count": null,
      "metadata": {
        "id": "banned-divorce"
      },
      "outputs": [],
      "source": [
        "# get the elements in the first 5 rows and columns\n",
        "print(numbers[0:5, 0:5])"
      ],
      "id": "banned-divorce"
    },
    {
      "cell_type": "code",
      "execution_count": null,
      "metadata": {
        "id": "african-cooperation"
      },
      "outputs": [],
      "source": [
        "# get the elements in the last five rows\n",
        "print(numbers[5:, :])"
      ],
      "id": "african-cooperation"
    },
    {
      "cell_type": "markdown",
      "metadata": {
        "id": "occupied-charm"
      },
      "source": [
        "## Basic Operations"
      ],
      "id": "occupied-charm"
    },
    {
      "cell_type": "markdown",
      "metadata": {
        "id": "selected-picnic"
      },
      "source": [
        "### Matrix Transpose"
      ],
      "id": "selected-picnic"
    },
    {
      "cell_type": "code",
      "execution_count": null,
      "metadata": {
        "id": "going-publicity"
      },
      "outputs": [],
      "source": [
        "a = np.random.randint(0, 10, (3,6))\n",
        "print('a:')\n",
        "print(a)\n",
        "print('\\nTranspose:')\n",
        "print(a.T)"
      ],
      "id": "going-publicity"
    },
    {
      "cell_type": "code",
      "execution_count": null,
      "metadata": {
        "id": "subjective-danger"
      },
      "outputs": [],
      "source": [
        "a = np.array([1,2,3,4,5])\n",
        "print(a)\n",
        "print(a.T)"
      ],
      "id": "subjective-danger"
    },
    {
      "cell_type": "markdown",
      "metadata": {
        "id": "necessary-wilderness"
      },
      "source": [
        "**Why?** Numpy arrays created from a normal list is called zero-rank array. Its shape is `(n,)` which indicates that it has a single dimension `n`. On the other hand, a vector is either a row vector with shape `(1, n)` or a column vector with shape `(n, 1)`. To create such a vector, we need to add an extra empty axis to tell Numpy that there is now a new dimension added."
      ],
      "id": "necessary-wilderness"
    },
    {
      "cell_type": "code",
      "execution_count": null,
      "metadata": {
        "id": "flying-center"
      },
      "outputs": [],
      "source": [
        "print(a.shape)"
      ],
      "id": "flying-center"
    },
    {
      "cell_type": "code",
      "execution_count": null,
      "metadata": {
        "id": "novel-science"
      },
      "outputs": [],
      "source": [
        "print(a[None, :])\n",
        "print(a[None, :].shape)"
      ],
      "id": "novel-science"
    },
    {
      "cell_type": "code",
      "execution_count": null,
      "metadata": {
        "id": "educational-container"
      },
      "outputs": [],
      "source": [
        "print(a[:, None])\n",
        "print(a[:, None].shape)"
      ],
      "id": "educational-container"
    },
    {
      "cell_type": "markdown",
      "metadata": {
        "id": "attempted-spice"
      },
      "source": [
        "### Math operations"
      ],
      "id": "attempted-spice"
    },
    {
      "cell_type": "code",
      "execution_count": null,
      "metadata": {
        "id": "demonstrated-donor"
      },
      "outputs": [],
      "source": [
        "a = np.array([1,2,3])\n",
        "b = np.array([4,5,6])\n",
        "\n",
        "print(a + b)\n",
        "print(a - b)\n",
        "print(a * b)\n",
        "print(a / b)"
      ],
      "id": "demonstrated-donor"
    },
    {
      "cell_type": "markdown",
      "metadata": {
        "id": "scenic-collaboration"
      },
      "source": [
        "### Multiplication"
      ],
      "id": "scenic-collaboration"
    },
    {
      "cell_type": "code",
      "execution_count": null,
      "metadata": {
        "id": "whole-draft"
      },
      "outputs": [],
      "source": [
        "print(a * b) # element-wise multiplication\n",
        "print(a.dot(b)) # dot product\n",
        "print(a @ b) # the same dot product"
      ],
      "id": "whole-draft"
    },
    {
      "cell_type": "markdown",
      "metadata": {
        "id": "fundamental-prime"
      },
      "source": [
        "## Numpy Math Functions"
      ],
      "id": "fundamental-prime"
    },
    {
      "cell_type": "code",
      "execution_count": null,
      "metadata": {
        "id": "ranging-appliance"
      },
      "outputs": [],
      "source": [
        "a = np.array([1,4,9,16,25])\n",
        "print(a)\n",
        "\n",
        "# element-wise\n",
        "print(np.sqrt(a))\n",
        "print(np.exp(a))\n",
        "print(np.log(a))\n",
        "print(np.sin(a))\n",
        "print(np.cos(a))"
      ],
      "id": "ranging-appliance"
    },
    {
      "cell_type": "markdown",
      "metadata": {
        "id": "commercial-fountain"
      },
      "source": [
        "## What is Matplotlib?\n",
        "\n",
        "Matplotlib is a Python library for data visualization that produces high-quality figures in any format. Throughout our course, we will try to visualize our 2-D functions to see what is happening and to understand the algorithms better. You should also be able to use Matplotlib to do visualizations yourself."
      ],
      "id": "commercial-fountain"
    },
    {
      "cell_type": "markdown",
      "metadata": {
        "id": "grateful-double"
      },
      "source": [
        "### Plotting a function\n",
        "\n",
        "When you first learned to plot a function using a pen and a paper, you drew a table with two rows, the first was for the x-axis values, and the second was for the y-axis values. Each pair of (x,y) axes was then drawn, and finally you connect all the points together using lines to get the final plot.\n",
        "\n",
        "When using Matplotlib, it is not that different. You begin by creating an array of x-axis values. Then you compute the corresponding y-axis values (using the function you want to plot), then you give the pair of x and y arrays to the `plot()` function to do the rest.\n",
        "\n",
        "In the next cell, we will plot the `np.sin()` function of x values raning from $[-\\pi, \\pi]$."
      ],
      "id": "grateful-double"
    },
    {
      "cell_type": "code",
      "execution_count": null,
      "metadata": {
        "id": "located-preference"
      },
      "outputs": [],
      "source": [
        "from matplotlib import pyplot as plt\n",
        "\n",
        "# Create the x-axis values\n",
        "x = np.linspace(-np.pi, np.pi, 50)\n",
        "\n",
        "# Compute the y-axis values\n",
        "y = np.sin(x)\n",
        "\n",
        "# Creating a figure\n",
        "plt.figure()\n",
        "# Calling the plot function\n",
        "plt.plot(x, y)\n",
        "# show the figure\n",
        "plt.show()"
      ],
      "id": "located-preference"
    },
    {
      "cell_type": "markdown",
      "metadata": {
        "id": "false-person"
      },
      "source": [
        "Up till now, this is all you need to know in order to start this course.\n",
        "\n",
        "**Thank you**."
      ],
      "id": "false-person"
    }
  ],
  "metadata": {
    "colab": {
      "collapsed_sections": [
        "confident-spiritual",
        "selected-picnic"
      ],
      "provenance": []
    },
    "kernelspec": {
      "display_name": "Python 3",
      "language": "python",
      "name": "python3"
    },
    "language_info": {
      "codemirror_mode": {
        "name": "ipython",
        "version": 3
      },
      "file_extension": ".py",
      "mimetype": "text/x-python",
      "name": "python",
      "nbconvert_exporter": "python",
      "pygments_lexer": "ipython3",
      "version": "3.7.1"
    }
  },
  "nbformat": 4,
  "nbformat_minor": 5
}